{
 "cells": [
  {
   "cell_type": "markdown",
   "metadata": {},
   "source": [
    "## Use case 1: Shower visualization"
   ]
  },
  {
   "cell_type": "code",
   "execution_count": 1,
   "metadata": {},
   "outputs": [
    {
     "ename": "ModuleNotFoundError",
     "evalue": "No module named 'ToyModel'",
     "output_type": "error",
     "traceback": [
      "\u001b[1;31m---------------------------------------------------------------------------\u001b[0m",
      "\u001b[1;31mModuleNotFoundError\u001b[0m                       Traceback (most recent call last)",
      "\u001b[1;32m<ipython-input-1-e933a57b95e9>\u001b[0m in \u001b[0;36m<module>\u001b[1;34m\u001b[0m\n\u001b[1;32m----> 1\u001b[1;33m \u001b[1;32mimport\u001b[0m \u001b[0mToyModel\u001b[0m \u001b[1;32mas\u001b[0m \u001b[0mtm\u001b[0m\u001b[1;33m\u001b[0m\u001b[1;33m\u001b[0m\u001b[0m\n\u001b[0m",
      "\u001b[1;31mModuleNotFoundError\u001b[0m: No module named 'ToyModel'"
     ]
    }
   ],
   "source": [
    "import ToyModel as tm"
   ]
  },
  {
   "cell_type": "markdown",
   "metadata": {},
   "source": [
    "#### Construction of a shower track"
   ]
  },
  {
   "cell_type": "code",
   "execution_count": 2,
   "metadata": {},
   "outputs": [],
   "source": [
    "## Default vertical track and discretization\n",
    "#track = tm.Track()\n",
    "## Track with ground interaction point at 0.5 km east, 0.1 km north, zenith angle of 20 degrees and azimuth angle of 30 degrees\n",
    "#track = tm.Track(x0=0.5, y0=0.1, theta=20., az=30.) #alt=70. can be used instead of theta=20.\n",
    "## Setting ground level and top of the atmosphere (km asl), and the number of discretization steps\n",
    "track = tm.Track(theta=20., h0=1.8, h_top=100., N_steps=600)"
   ]
  },
  {
   "cell_type": "code",
   "execution_count": 3,
   "metadata": {},
   "outputs": [],
   "source": [
    "## Help on Track constructor\n",
    "#tm.Track?"
   ]
  },
  {
   "cell_type": "code",
   "execution_count": 4,
   "metadata": {},
   "outputs": [
    {
     "data": {
      "text/html": [
       "<div>\n",
       "<style scoped>\n",
       "    .dataframe tbody tr th:only-of-type {\n",
       "        vertical-align: middle;\n",
       "    }\n",
       "\n",
       "    .dataframe tbody tr th {\n",
       "        vertical-align: top;\n",
       "    }\n",
       "\n",
       "    .dataframe thead th {\n",
       "        text-align: right;\n",
       "    }\n",
       "</style>\n",
       "<table border=\"1\" class=\"dataframe\">\n",
       "  <thead>\n",
       "    <tr style=\"text-align: right;\">\n",
       "      <th></th>\n",
       "      <th>x</th>\n",
       "      <th>y</th>\n",
       "      <th>z</th>\n",
       "      <th>t</th>\n",
       "    </tr>\n",
       "  </thead>\n",
       "  <tbody>\n",
       "    <tr>\n",
       "      <td>0</td>\n",
       "      <td>0.0</td>\n",
       "      <td>0.029785</td>\n",
       "      <td>0.081833</td>\n",
       "      <td>348.282762</td>\n",
       "    </tr>\n",
       "    <tr>\n",
       "      <td>1</td>\n",
       "      <td>0.0</td>\n",
       "      <td>0.089355</td>\n",
       "      <td>0.245500</td>\n",
       "      <td>347.701807</td>\n",
       "    </tr>\n",
       "    <tr>\n",
       "      <td>2</td>\n",
       "      <td>0.0</td>\n",
       "      <td>0.148924</td>\n",
       "      <td>0.409167</td>\n",
       "      <td>347.120851</td>\n",
       "    </tr>\n",
       "    <tr>\n",
       "      <td>3</td>\n",
       "      <td>0.0</td>\n",
       "      <td>0.208494</td>\n",
       "      <td>0.572833</td>\n",
       "      <td>346.539896</td>\n",
       "    </tr>\n",
       "    <tr>\n",
       "      <td>4</td>\n",
       "      <td>0.0</td>\n",
       "      <td>0.268064</td>\n",
       "      <td>0.736500</td>\n",
       "      <td>345.958940</td>\n",
       "    </tr>\n",
       "    <tr>\n",
       "      <td>...</td>\n",
       "      <td>...</td>\n",
       "      <td>...</td>\n",
       "      <td>...</td>\n",
       "      <td>...</td>\n",
       "    </tr>\n",
       "    <tr>\n",
       "      <td>595</td>\n",
       "      <td>0.0</td>\n",
       "      <td>35.473813</td>\n",
       "      <td>97.463500</td>\n",
       "      <td>2.614299</td>\n",
       "    </tr>\n",
       "    <tr>\n",
       "      <td>596</td>\n",
       "      <td>0.0</td>\n",
       "      <td>35.533383</td>\n",
       "      <td>97.627167</td>\n",
       "      <td>2.033344</td>\n",
       "    </tr>\n",
       "    <tr>\n",
       "      <td>597</td>\n",
       "      <td>0.0</td>\n",
       "      <td>35.592953</td>\n",
       "      <td>97.790833</td>\n",
       "      <td>1.452388</td>\n",
       "    </tr>\n",
       "    <tr>\n",
       "      <td>598</td>\n",
       "      <td>0.0</td>\n",
       "      <td>35.652522</td>\n",
       "      <td>97.954500</td>\n",
       "      <td>0.871433</td>\n",
       "    </tr>\n",
       "    <tr>\n",
       "      <td>599</td>\n",
       "      <td>0.0</td>\n",
       "      <td>35.712092</td>\n",
       "      <td>98.118167</td>\n",
       "      <td>0.290478</td>\n",
       "    </tr>\n",
       "  </tbody>\n",
       "</table>\n",
       "<p>600 rows × 4 columns</p>\n",
       "</div>"
      ],
      "text/plain": [
       "       x          y          z           t\n",
       "0    0.0   0.029785   0.081833  348.282762\n",
       "1    0.0   0.089355   0.245500  347.701807\n",
       "2    0.0   0.148924   0.409167  347.120851\n",
       "3    0.0   0.208494   0.572833  346.539896\n",
       "4    0.0   0.268064   0.736500  345.958940\n",
       "..   ...        ...        ...         ...\n",
       "595  0.0  35.473813  97.463500    2.614299\n",
       "596  0.0  35.533383  97.627167    2.033344\n",
       "597  0.0  35.592953  97.790833    1.452388\n",
       "598  0.0  35.652522  97.954500    0.871433\n",
       "599  0.0  35.712092  98.118167    0.290478\n",
       "\n",
       "[600 rows x 4 columns]"
      ]
     },
     "execution_count": 4,
     "metadata": {},
     "output_type": "execute_result"
    }
   ],
   "source": [
    "## Data stored in Track object, subclass of DataFrame\n",
    "track"
   ]
  },
  {
   "cell_type": "code",
   "execution_count": 5,
   "metadata": {},
   "outputs": [
    {
     "name": "stdout",
     "output_type": "stream",
     "text": [
      "Unit vector parallel to shower axis (upwards): (0.29619813272602386, -0.17101007166283427, 0.9396926207859084)\n",
      "Coordinates of ground interaction point: (0.5, 0.1, 0.0)\n",
      "Coordinates of shower point at 3.5 km a.s.l.: (1.0358526974630378, -0.2093746991262718, 1.7)\n",
      "Travel time in us of shower front at 27 km above observation level: 298.272204399376\n"
     ]
    }
   ],
   "source": [
    "## Some attributes and methods of Track objects:\n",
    "track = tm.Track(x0=0.5, y0=0.1, theta=20., az=120., h0=1.8)\n",
    "print(\"Unit vector parallel to shower axis (upwards):\", (track.ux, track.uy, track.uz) )\n",
    "print(\"Coordinates of ground interaction point:\", (track.x0, track.y0, 0.) )\n",
    "print(\"Coordinates of shower point at 3.5 km a.s.l.:\", track.h_to_xyz(3.5))\n",
    "print(\"Travel time in us of shower front at 27 km above observation level:\", track.z_to_t(27.))"
   ]
  },
  {
   "cell_type": "code",
   "execution_count": 6,
   "metadata": {},
   "outputs": [],
   "source": [
    "## Help on Track object\n",
    "#track?"
   ]
  },
  {
   "cell_type": "markdown",
   "metadata": {},
   "source": [
    "#### Construction of a telescope and shower track projection"
   ]
  },
  {
   "cell_type": "code",
   "execution_count": 7,
   "metadata": {
    "scrolled": true
   },
   "outputs": [],
   "source": [
    "## Default telescope positioned at 0.1 km east and 0.2 km south\n",
    "#telescope = tm.Telescope(x=0.1, y=-0.2)\n",
    "## Setting the pointing direction and aperture\n",
    "telescope = tm.Telescope(x=0.1, y=-0.2, z=0.1, theta=20., az=120., apert=10.)"
   ]
  },
  {
   "cell_type": "code",
   "execution_count": 8,
   "metadata": {},
   "outputs": [],
   "source": [
    "## Help on Telescope constructor\n",
    "#tm.Telescope?\n",
    "## Help on Telescope object\n",
    "#telescope?"
   ]
  },
  {
   "cell_type": "code",
   "execution_count": 9,
   "metadata": {},
   "outputs": [],
   "source": [
    "## Calculation of coordinates (alt/az and theta/phi) of shower track relative to telescope position\n",
    "projection = tm.Projection(telescope, track)\n",
    "## Equivalent method of track\n",
    "#projection = track.Projection(telescope)\n",
    "## Equivalent method of telescope\n",
    "#projection = telescope.Projection(track)"
   ]
  },
  {
   "cell_type": "code",
   "execution_count": 10,
   "metadata": {},
   "outputs": [
    {
     "data": {
      "text/html": [
       "<div>\n",
       "<style scoped>\n",
       "    .dataframe tbody tr th:only-of-type {\n",
       "        vertical-align: middle;\n",
       "    }\n",
       "\n",
       "    .dataframe tbody tr th {\n",
       "        vertical-align: top;\n",
       "    }\n",
       "\n",
       "    .dataframe thead th {\n",
       "        text-align: right;\n",
       "    }\n",
       "</style>\n",
       "<table border=\"1\" class=\"dataframe\">\n",
       "  <thead>\n",
       "    <tr style=\"text-align: right;\">\n",
       "      <th></th>\n",
       "      <th>distance</th>\n",
       "      <th>alt</th>\n",
       "      <th>az</th>\n",
       "      <th>theta</th>\n",
       "      <th>phi</th>\n",
       "      <th>beta</th>\n",
       "      <th>time</th>\n",
       "      <th>FoV</th>\n",
       "    </tr>\n",
       "  </thead>\n",
       "  <tbody>\n",
       "    <tr>\n",
       "      <td>0</td>\n",
       "      <td>0.515540</td>\n",
       "      <td>0.103984</td>\n",
       "      <td>56.887513</td>\n",
       "      <td>81.003132</td>\n",
       "      <td>306.074599</td>\n",
       "      <td>81.003132</td>\n",
       "      <td>1.447039</td>\n",
       "      <td>False</td>\n",
       "    </tr>\n",
       "    <tr>\n",
       "      <td>1</td>\n",
       "      <td>0.588703</td>\n",
       "      <td>20.151143</td>\n",
       "      <td>63.697352</td>\n",
       "      <td>59.876772</td>\n",
       "      <td>306.074599</td>\n",
       "      <td>59.876772</td>\n",
       "      <td>0.974510</td>\n",
       "      <td>False</td>\n",
       "    </tr>\n",
       "    <tr>\n",
       "      <td>2</td>\n",
       "      <td>0.720876</td>\n",
       "      <td>34.150606</td>\n",
       "      <td>69.578691</td>\n",
       "      <td>44.939486</td>\n",
       "      <td>306.074599</td>\n",
       "      <td>44.939486</td>\n",
       "      <td>0.698813</td>\n",
       "      <td>False</td>\n",
       "    </tr>\n",
       "    <tr>\n",
       "      <td>3</td>\n",
       "      <td>0.886033</td>\n",
       "      <td>43.201629</td>\n",
       "      <td>74.608921</td>\n",
       "      <td>35.078197</td>\n",
       "      <td>306.074599</td>\n",
       "      <td>35.078197</td>\n",
       "      <td>0.533135</td>\n",
       "      <td>False</td>\n",
       "    </tr>\n",
       "    <tr>\n",
       "      <td>4</td>\n",
       "      <td>1.068993</td>\n",
       "      <td>49.134256</td>\n",
       "      <td>78.897894</td>\n",
       "      <td>28.446219</td>\n",
       "      <td>306.074599</td>\n",
       "      <td>28.446219</td>\n",
       "      <td>0.426844</td>\n",
       "      <td>False</td>\n",
       "    </tr>\n",
       "    <tr>\n",
       "      <td>...</td>\n",
       "      <td>...</td>\n",
       "      <td>...</td>\n",
       "      <td>...</td>\n",
       "      <td>...</td>\n",
       "      <td>...</td>\n",
       "      <td>...</td>\n",
       "      <td>...</td>\n",
       "      <td>...</td>\n",
       "    </tr>\n",
       "    <tr>\n",
       "      <td>545</td>\n",
       "      <td>117.162399</td>\n",
       "      <td>69.891810</td>\n",
       "      <td>119.345934</td>\n",
       "      <td>0.249013</td>\n",
       "      <td>306.074599</td>\n",
       "      <td>0.249013</td>\n",
       "      <td>0.000030</td>\n",
       "      <td>True</td>\n",
       "    </tr>\n",
       "    <tr>\n",
       "      <td>546</td>\n",
       "      <td>117.377224</td>\n",
       "      <td>69.892011</td>\n",
       "      <td>119.347125</td>\n",
       "      <td>0.248557</td>\n",
       "      <td>306.074599</td>\n",
       "      <td>0.248557</td>\n",
       "      <td>0.000023</td>\n",
       "      <td>True</td>\n",
       "    </tr>\n",
       "    <tr>\n",
       "      <td>547</td>\n",
       "      <td>117.592049</td>\n",
       "      <td>69.892210</td>\n",
       "      <td>119.348311</td>\n",
       "      <td>0.248103</td>\n",
       "      <td>306.074599</td>\n",
       "      <td>0.248103</td>\n",
       "      <td>0.000017</td>\n",
       "      <td>True</td>\n",
       "    </tr>\n",
       "    <tr>\n",
       "      <td>548</td>\n",
       "      <td>117.806874</td>\n",
       "      <td>69.892409</td>\n",
       "      <td>119.349493</td>\n",
       "      <td>0.247651</td>\n",
       "      <td>306.074599</td>\n",
       "      <td>0.247651</td>\n",
       "      <td>0.000010</td>\n",
       "      <td>True</td>\n",
       "    </tr>\n",
       "    <tr>\n",
       "      <td>549</td>\n",
       "      <td>118.021699</td>\n",
       "      <td>69.892607</td>\n",
       "      <td>119.350671</td>\n",
       "      <td>0.247200</td>\n",
       "      <td>306.074599</td>\n",
       "      <td>0.247200</td>\n",
       "      <td>0.000003</td>\n",
       "      <td>True</td>\n",
       "    </tr>\n",
       "  </tbody>\n",
       "</table>\n",
       "<p>550 rows × 8 columns</p>\n",
       "</div>"
      ],
      "text/plain": [
       "       distance        alt          az      theta         phi       beta  \\\n",
       "0      0.515540   0.103984   56.887513  81.003132  306.074599  81.003132   \n",
       "1      0.588703  20.151143   63.697352  59.876772  306.074599  59.876772   \n",
       "2      0.720876  34.150606   69.578691  44.939486  306.074599  44.939486   \n",
       "3      0.886033  43.201629   74.608921  35.078197  306.074599  35.078197   \n",
       "4      1.068993  49.134256   78.897894  28.446219  306.074599  28.446219   \n",
       "..          ...        ...         ...        ...         ...        ...   \n",
       "545  117.162399  69.891810  119.345934   0.249013  306.074599   0.249013   \n",
       "546  117.377224  69.892011  119.347125   0.248557  306.074599   0.248557   \n",
       "547  117.592049  69.892210  119.348311   0.248103  306.074599   0.248103   \n",
       "548  117.806874  69.892409  119.349493   0.247651  306.074599   0.247651   \n",
       "549  118.021699  69.892607  119.350671   0.247200  306.074599   0.247200   \n",
       "\n",
       "         time    FoV  \n",
       "0    1.447039  False  \n",
       "1    0.974510  False  \n",
       "2    0.698813  False  \n",
       "3    0.533135  False  \n",
       "4    0.426844  False  \n",
       "..        ...    ...  \n",
       "545  0.000030   True  \n",
       "546  0.000023   True  \n",
       "547  0.000017   True  \n",
       "548  0.000010   True  \n",
       "549  0.000003   True  \n",
       "\n",
       "[550 rows x 8 columns]"
      ]
     },
     "execution_count": 10,
     "metadata": {},
     "output_type": "execute_result"
    }
   ],
   "source": [
    "## Data stored in Projection object, subclass of DataFrame\n",
    "## beta is the angular distance of each shower point relative to the apparent position of the cosmic-ray source\n",
    "projection"
   ]
  },
  {
   "cell_type": "code",
   "execution_count": 11,
   "metadata": {},
   "outputs": [],
   "source": [
    "## Help on Projection constructor\n",
    "#tm.Projection?\n",
    "## Help on Projection object\n",
    "#projection?"
   ]
  },
  {
   "cell_type": "code",
   "execution_count": 12,
   "metadata": {},
   "outputs": [
    {
     "name": "stdout",
     "output_type": "stream",
     "text": [
      "Angular aperture in degrees of the telescope: 10.0\n",
      "Unit vector parallel to the telescope pointing direction: (0.29619813272602386, -0.17101007166283427, 0.9396926207859084)\n",
      "Position angle (from north) of the right-hand direction from the telescope point of view: 151.51876171866053\n",
      "FoV coordinates theta/phi corresponding to alt=72., az=120. relative to telescope: (1.9999999999999472, 61.51876171866053)\n",
      "theta/phi coordinates of the apparent position of the cosmic-ray source: (0.0, 255.55500518658698)\n",
      "Angular distance of the ground interaction point relative to the apparent position of the cosmic-ray source: 93.01201998391794\n"
     ]
    }
   ],
   "source": [
    "## Some attributes and methods of Telescope and Projection objects:\n",
    "print(\"Angular aperture in degrees of the telescope:\", telescope.apert)\n",
    "print(\"Unit vector parallel to the telescope pointing direction:\", (telescope.ux, telescope.uy, telescope.uz) )\n",
    "print(\"Position angle (from north) of the right-hand direction from the telescope point of view:\", telescope.phi_right )\n",
    "print(\"FoV coordinates theta/phi corresponding to alt=72., az=120. relative to telescope:\",\n",
    "      telescope.altaz_to_thetaphi(72., 120.)) #Equivalent to projection.altaz_to_thetaphi(72., 120.)\n",
    "print(\"theta/phi coordinates of the apparent position of the cosmic-ray source:\", (projection.theta_inf, projection.phi_inf) )\n",
    "print(\"Angular distance of the ground interaction point relative to the apparent position of the cosmic-ray source:\",\n",
    "     projection.beta_0)"
   ]
  },
  {
   "cell_type": "code",
   "execution_count": 13,
   "metadata": {},
   "outputs": [
    {
     "data": {
      "image/png": "[encoded data removed]",
      "text/plain": [
       "<Figure size 432x288 with 2 Axes>"
      ]
     },
     "metadata": {
      "needs_background": "light"
     },
     "output_type": "display_data"
    }
   ],
   "source": [
    "## Track visualization\n",
    "#projection.show();\n",
    "## Plots can be stored in PolarAxesSubplot objects for later modification\n",
    "#ax1, ax2 = projection.show()\n",
    "## Equivalent method of track\n",
    "#projection, (ax1, ax2) = track.show_projection(telescope)\n",
    "## Some plot options\n",
    "projection.show(max_theta=5.); #Maximum offset angle in the FoV plot\n",
    "#projection.show(axes=False, X_mark=400.); #Blue mark at slanth depth of 400 g/cm2 (it depends on atmosphere model, see UC2)"
   ]
  },
  {
   "cell_type": "code",
   "execution_count": 14,
   "metadata": {},
   "outputs": [],
   "source": [
    "## Help on show_projection\n",
    "#track.show_projection?"
   ]
  }
 ],
 "metadata": {
  "kernelspec": {
   "display_name": "Python 3",
   "language": "python",
   "name": "python3"
  }
 },
 "nbformat": 4,
 "nbformat_minor": 2
}

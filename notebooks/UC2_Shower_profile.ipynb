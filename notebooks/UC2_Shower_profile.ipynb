{
 "cells": [
  {
   "cell_type": "markdown",
   "metadata": {},
   "source": [
    "# Use case 2: Shower profiles"
   ]
  },
  {
   "cell_type": "code",
   "execution_count": 1,
   "metadata": {},
   "outputs": [],
   "source": [
    "import showermodel as sm\n",
    "import pandas as pd\n",
    "import numpy as np\n",
    "import toml"
   ]
  },
  {
   "cell_type": "markdown",
   "metadata": {},
   "source": [
    "This notebook illustrates how to use the following classes and their methods:\n",
    "- `Atmosphere` : Atmospheric profile and discretization.\n",
    "- `Profile` : Shower longitudinal profile.\n",
    "- `Fluorescence` : Fluorescence production.\n",
    "- `Cherenkov` : Cherenkov light production.\n",
    "\n",
    "These classes, along with the `Track` class described in UC1, are wrapped by the `Shower` class, which is also described here."
   ]
  },
  {
   "cell_type": "markdown",
   "metadata": {},
   "source": [
    "### Construction of an atmospheric profile"
   ]
  },
  {
   "cell_type": "markdown",
   "metadata": {},
   "source": [
    "The `Atmosphere` class uses the atmospheric models that are built in the CORSIKA code, i.e., those corresponding to the CORSIKA parameter MODATM from 1 to 29, except for 9 and 10 that are reserved for user-defined models. These models parameterize the atmosphere in 5 layers. In the lower 4 layers, the air density has an exponential dependence on altitude, whereas a linear dependence is assumed in the top layer. Pressure and temperature are calculated assuming constant acceleration of gravity and an ideal gas with the molar mass of dry air. In `ShowerModel` the atmospheric model is selected via the parameter `atm_model`. The default atmospheric model is the U.S. standard atmosphere and corresponds to `atm_model = 1` (corresponding to MODATM = 1 in CORSIKA).\n",
    "\n",
    "These atmospheric models ignore the water vapor, which is relevant for the fluorescence emission. Therefore, a simple exponential water-pressure profile (from recommendation ITU-R P.835-6) is also implemented in `ShowerModel`. This uses two parameters:\n",
    "\n",
    "- `rho_w_sl` : Water-vapor density in g/cm$^3$ at sea level. Set to 0 for dry air. Default 7.5e-6 g/cm$^3$.\n",
    "- `h_scale` : Scale height in km of the exponential water density. Default 2 km.\n",
    "\n",
    "In addition, `Atmosphere` allows you to specify the ground level and atmosphere discretization via the parameters `h0`, `h_top` and `N_steps`, as in the `Track` class (see UC1). In fact, the discretization of `Track`, `Profile`, `Cherenkov`, `Fluorescence`, etc. is based on an `Atmosphere` object that is stored as an attribute (see examples for `Profile` later on)."
   ]
  },
  {
   "cell_type": "code",
   "execution_count": 2,
   "metadata": {},
   "outputs": [],
   "source": [
    "# Default Atmosphere object\n",
    "# atmosphere = sm.Atmosphere()\n",
    "\n",
    "# Setting the ground level, the atmospheric model and the number of discretization steps\n",
    "atmosphere = sm.Atmosphere(h0=1.8, atm_model=17, N_steps=600)\n",
    "\n",
    "# Setting the water pressure profile\n",
    "# atmosphere = sm.Atmosphere(h0=1.8, atm_model=17, N_steps=600, rho_w_sl=9.e-6, h_scale=1.)"
   ]
  },
  {
   "cell_type": "markdown",
   "metadata": {},
   "source": [
    "`Atmosphere` is a subclass of `DataFrame` and it contains all the relevant parameters of the atmospheric profile.\n",
    "\n",
    "- `h` : Height in km a.s.l.\n",
    "- `X_vert` : Vertical depth in g/cm$^2$.\n",
    "- `rho` : Mass density in g/cm$^3$.\n",
    "- `temp` : Temperature in K.\n",
    "- `P` : Pressure in hPa.\n",
    "- `P_w` : Water-vapor pressure in hPa.\n",
    "- `E_th` : Cherenkov energy threshold in MeV (at 350 nm).\n",
    "- `r_M` : Molière radius in km."
   ]
  },
  {
   "cell_type": "code",
   "execution_count": 3,
   "metadata": {
    "scrolled": false
   },
   "outputs": [
    {
     "data": {
      "text/html": [
       "<div>\n",
       "<style scoped>\n",
       "    .dataframe tbody tr th:only-of-type {\n",
       "        vertical-align: middle;\n",
       "    }\n",
       "\n",
       "    .dataframe tbody tr th {\n",
       "        vertical-align: top;\n",
       "    }\n",
       "\n",
       "    .dataframe thead th {\n",
       "        text-align: right;\n",
       "    }\n",
       "</style>\n",
       "<table border=\"1\" class=\"dataframe\">\n",
       "  <thead>\n",
       "    <tr style=\"text-align: right;\">\n",
       "      <th></th>\n",
       "      <th>h</th>\n",
       "      <th>X_vert</th>\n",
       "      <th>rho</th>\n",
       "      <th>temp</th>\n",
       "      <th>P</th>\n",
       "      <th>P_w</th>\n",
       "      <th>E_th</th>\n",
       "      <th>r_M</th>\n",
       "    </tr>\n",
       "  </thead>\n",
       "  <tbody>\n",
       "    <tr>\n",
       "      <th>0</th>\n",
       "      <td>1.892524</td>\n",
       "      <td>820.877247</td>\n",
       "      <td>1.017218e-03</td>\n",
       "      <td>275.689079</td>\n",
       "      <td>805.005585</td>\n",
       "      <td>3.704397e+00</td>\n",
       "      <td>23.450154</td>\n",
       "      <td>0.094452</td>\n",
       "    </tr>\n",
       "    <tr>\n",
       "      <th>1</th>\n",
       "      <td>2.077573</td>\n",
       "      <td>802.235096</td>\n",
       "      <td>9.976824e-04</td>\n",
       "      <td>274.703934</td>\n",
       "      <td>786.723881</td>\n",
       "      <td>3.364961e+00</td>\n",
       "      <td>23.677999</td>\n",
       "      <td>0.096301</td>\n",
       "    </tr>\n",
       "    <tr>\n",
       "      <th>2</th>\n",
       "      <td>2.262622</td>\n",
       "      <td>783.950973</td>\n",
       "      <td>9.785216e-04</td>\n",
       "      <td>273.699498</td>\n",
       "      <td>768.793281</td>\n",
       "      <td>3.056373e+00</td>\n",
       "      <td>23.908111</td>\n",
       "      <td>0.098187</td>\n",
       "    </tr>\n",
       "    <tr>\n",
       "      <th>3</th>\n",
       "      <td>2.447670</td>\n",
       "      <td>766.018002</td>\n",
       "      <td>9.597289e-04</td>\n",
       "      <td>272.675394</td>\n",
       "      <td>751.207044</td>\n",
       "      <td>2.775847e+00</td>\n",
       "      <td>24.140506</td>\n",
       "      <td>0.100109</td>\n",
       "    </tr>\n",
       "    <tr>\n",
       "      <th>4</th>\n",
       "      <td>2.632719</td>\n",
       "      <td>748.429438</td>\n",
       "      <td>9.412970e-04</td>\n",
       "      <td>271.631237</td>\n",
       "      <td>733.958555</td>\n",
       "      <td>2.520847e+00</td>\n",
       "      <td>24.375204</td>\n",
       "      <td>0.102070</td>\n",
       "    </tr>\n",
       "    <tr>\n",
       "      <th>...</th>\n",
       "      <td>...</td>\n",
       "      <td>...</td>\n",
       "      <td>...</td>\n",
       "      <td>...</td>\n",
       "      <td>...</td>\n",
       "      <td>...</td>\n",
       "      <td>...</td>\n",
       "      <td>...</td>\n",
       "    </tr>\n",
       "    <tr>\n",
       "      <th>595</th>\n",
       "      <td>111.996481</td>\n",
       "      <td>0.000083</td>\n",
       "      <td>1.000000e-09</td>\n",
       "      <td>28.448148</td>\n",
       "      <td>0.000082</td>\n",
       "      <td>1.633237e-10</td>\n",
       "      <td>23648.351576</td>\n",
       "      <td>96077.859812</td>\n",
       "    </tr>\n",
       "    <tr>\n",
       "      <th>596</th>\n",
       "      <td>112.181530</td>\n",
       "      <td>0.000065</td>\n",
       "      <td>1.000000e-09</td>\n",
       "      <td>22.126337</td>\n",
       "      <td>0.000064</td>\n",
       "      <td>1.270295e-10</td>\n",
       "      <td>23648.351488</td>\n",
       "      <td>96077.859812</td>\n",
       "    </tr>\n",
       "    <tr>\n",
       "      <th>597</th>\n",
       "      <td>112.366578</td>\n",
       "      <td>0.000046</td>\n",
       "      <td>1.000000e-09</td>\n",
       "      <td>15.804527</td>\n",
       "      <td>0.000045</td>\n",
       "      <td>9.073538e-11</td>\n",
       "      <td>23648.351330</td>\n",
       "      <td>96077.859812</td>\n",
       "    </tr>\n",
       "    <tr>\n",
       "      <th>598</th>\n",
       "      <td>112.551627</td>\n",
       "      <td>0.000028</td>\n",
       "      <td>1.000000e-09</td>\n",
       "      <td>9.482716</td>\n",
       "      <td>0.000027</td>\n",
       "      <td>5.444123e-11</td>\n",
       "      <td>23648.350960</td>\n",
       "      <td>96077.859812</td>\n",
       "    </tr>\n",
       "    <tr>\n",
       "      <th>599</th>\n",
       "      <td>112.736676</td>\n",
       "      <td>0.000009</td>\n",
       "      <td>1.000000e-09</td>\n",
       "      <td>3.160905</td>\n",
       "      <td>0.000009</td>\n",
       "      <td>1.814708e-11</td>\n",
       "      <td>23648.349110</td>\n",
       "      <td>96077.859812</td>\n",
       "    </tr>\n",
       "  </tbody>\n",
       "</table>\n",
       "<p>600 rows × 8 columns</p>\n",
       "</div>"
      ],
      "text/plain": [
       "              h      X_vert           rho        temp           P  \\\n",
       "0      1.892524  820.877247  1.017218e-03  275.689079  805.005585   \n",
       "1      2.077573  802.235096  9.976824e-04  274.703934  786.723881   \n",
       "2      2.262622  783.950973  9.785216e-04  273.699498  768.793281   \n",
       "3      2.447670  766.018002  9.597289e-04  272.675394  751.207044   \n",
       "4      2.632719  748.429438  9.412970e-04  271.631237  733.958555   \n",
       "..          ...         ...           ...         ...         ...   \n",
       "595  111.996481    0.000083  1.000000e-09   28.448148    0.000082   \n",
       "596  112.181530    0.000065  1.000000e-09   22.126337    0.000064   \n",
       "597  112.366578    0.000046  1.000000e-09   15.804527    0.000045   \n",
       "598  112.551627    0.000028  1.000000e-09    9.482716    0.000027   \n",
       "599  112.736676    0.000009  1.000000e-09    3.160905    0.000009   \n",
       "\n",
       "              P_w          E_th           r_M  \n",
       "0    3.704397e+00     23.450154      0.094452  \n",
       "1    3.364961e+00     23.677999      0.096301  \n",
       "2    3.056373e+00     23.908111      0.098187  \n",
       "3    2.775847e+00     24.140506      0.100109  \n",
       "4    2.520847e+00     24.375204      0.102070  \n",
       "..            ...           ...           ...  \n",
       "595  1.633237e-10  23648.351576  96077.859812  \n",
       "596  1.270295e-10  23648.351488  96077.859812  \n",
       "597  9.073538e-11  23648.351330  96077.859812  \n",
       "598  5.444123e-11  23648.350960  96077.859812  \n",
       "599  1.814708e-11  23648.349110  96077.859812  \n",
       "\n",
       "[600 rows x 8 columns]"
      ]
     },
     "execution_count": 3,
     "metadata": {},
     "output_type": "execute_result"
    }
   ],
   "source": [
    "atmosphere"
   ]
  },
  {
   "cell_type": "markdown",
   "metadata": {},
   "source": [
    "`Atmosphere` has some useful attributes and methods."
   ]
  },
  {
   "cell_type": "code",
   "execution_count": 4,
   "metadata": {},
   "outputs": [
    {
     "name": "stdout",
     "output_type": "stream",
     "text": [
      "Observation level in km a.s.l.: 1.8\n",
      "Height (km a.s.l.) corresponding to a vertical depth of 50 g/cm2: 20.703\n"
     ]
    }
   ],
   "source": [
    "print(\"Observation level in km a.s.l.:\", atmosphere.h0)\n",
    "print(\"Height (km a.s.l.) corresponding to a vertical depth of 50 g/cm2:\", np.around(atmosphere.Xv_to_h(50.), 3))"
   ]
  },
  {
   "cell_type": "markdown",
   "metadata": {},
   "source": [
    "Help on `Atmosphere`."
   ]
  },
  {
   "cell_type": "code",
   "execution_count": 5,
   "metadata": {},
   "outputs": [],
   "source": [
    "# atmosphere?"
   ]
  },
  {
   "cell_type": "markdown",
   "metadata": {},
   "source": [
    "### User-defined atmospheric models"
   ]
  },
  {
   "cell_type": "markdown",
   "metadata": {},
   "source": [
    "There are two ways to personalize the atmospheric profile. In the first place, you may have your own library of atmospheric models with the same parameterization as the CORSIKA ones. For this purpose, the file 'atm_models.toml' is available in the 'extra' folder included in the `ShowerModel` package. This file contains the list of the built-in CORSIKA atomspheric models, of which parameters are stored in a key-value format.\n",
    "\n",
    "Once a model is modified or new one is created and assigned a different key, it can be selected via the parameter `atm_model`. You can also change the default value of the parameter `atm_model` stored in the file 'showermodel_config.toml', which is available in the 'extra' folder too. This way, if `atm_model` is set to the key of your personalized atmospheric model, this will be the default one. The file 'showermodel_config.toml' also contains the parameters `h0`, `h_top`, `N_steps`, `rho_w_sl` and `h_scale`. Both modified files must be placed in the working directory and keep their original names for `ShowerModel` to find them.\n",
    "\n",
    "Note: Atmospheric models with a different number of layers (at least 2) can be defined, provided that the first layers are exponential and the last one is linear. See the comments inside 'atm_models.toml' for details about layer parameters and units."
   ]
  },
  {
   "cell_type": "code",
   "execution_count": 6,
   "metadata": {},
   "outputs": [
    {
     "data": {
      "text/plain": [
       "{'info': 'AT115 Central European atmosphere for Jan. 15, 1993',\n",
       " 'h_low': [0.0, 4.0, 10.0, 40.0, 100.0],\n",
       " 'a': [-118.1277, -154.258, 0.4191499, 0.00054094056, 0.01128292],\n",
       " 'b': [1173.9861, 1205.7625, 1386.7807, 555.8935, 1.0],\n",
       " 'c': [919546.0, 963267.92, 614315.0, 739059.6, 1000000000.0]}"
      ]
     },
     "execution_count": 6,
     "metadata": {},
     "output_type": "execute_result"
    }
   ],
   "source": [
    "# Parameters of model 2 stored in atm_models.toml\n",
    "atm_models = toml.load(\"../extra/atm_models.toml\")\n",
    "atm_models['2']\n",
    "\n",
    "# The atmospheric profile is generated in accordance with this model when atm_model=2 is selected\n",
    "# atm = sm.Atmosphere(atm_model=2)\n",
    "# atm.info"
   ]
  },
  {
   "cell_type": "markdown",
   "metadata": {},
   "source": [
    "Other option to define a new atmosphere is passing in a `DataFrame` containing the atmospheric profile to `atm_model`. This `DataFrame` must have two columns: one labelled as 'h', with height in km, and the other one labelled either as 'X_vert' or 'P', depending on whether the vertical depth in g/cm$^2$ or the pressure in hPa is given. In doing so, the `Atmosphere` object is constructed by interpolation from the `DataFrame` using the atmosphere discretization defined by the parameters `h0`, `h_top` and `N_steps`. Note that the water-pressure profile is independently determined by the parameters `rho_w_sl` and `h_scale`.\n",
    "\n",
    "In the example below, a profile stored in an excel file is used. In this case, the profile is defined in terms of pressure."
   ]
  },
  {
   "cell_type": "code",
   "execution_count": 7,
   "metadata": {},
   "outputs": [
    {
     "data": {
      "text/html": [
       "<div>\n",
       "<style scoped>\n",
       "    .dataframe tbody tr th:only-of-type {\n",
       "        vertical-align: middle;\n",
       "    }\n",
       "\n",
       "    .dataframe tbody tr th {\n",
       "        vertical-align: top;\n",
       "    }\n",
       "\n",
       "    .dataframe thead th {\n",
       "        text-align: right;\n",
       "    }\n",
       "</style>\n",
       "<table border=\"1\" class=\"dataframe\">\n",
       "  <thead>\n",
       "    <tr style=\"text-align: right;\">\n",
       "      <th></th>\n",
       "      <th>h</th>\n",
       "      <th>P</th>\n",
       "    </tr>\n",
       "  </thead>\n",
       "  <tbody>\n",
       "    <tr>\n",
       "      <th>0</th>\n",
       "      <td>0.000000</td>\n",
       "      <td>1013.250000</td>\n",
       "    </tr>\n",
       "    <tr>\n",
       "      <th>1</th>\n",
       "      <td>1.222457</td>\n",
       "      <td>874.783079</td>\n",
       "    </tr>\n",
       "    <tr>\n",
       "      <th>2</th>\n",
       "      <td>2.445385</td>\n",
       "      <td>752.053153</td>\n",
       "    </tr>\n",
       "    <tr>\n",
       "      <th>3</th>\n",
       "      <td>3.668783</td>\n",
       "      <td>643.653845</td>\n",
       "    </tr>\n",
       "    <tr>\n",
       "      <th>4</th>\n",
       "      <td>4.892652</td>\n",
       "      <td>548.268352</td>\n",
       "    </tr>\n",
       "    <tr>\n",
       "      <th>...</th>\n",
       "      <td>...</td>\n",
       "      <td>...</td>\n",
       "    </tr>\n",
       "    <tr>\n",
       "      <th>68</th>\n",
       "      <td>93.777778</td>\n",
       "      <td>0.000942</td>\n",
       "    </tr>\n",
       "    <tr>\n",
       "      <th>69</th>\n",
       "      <td>95.333333</td>\n",
       "      <td>0.000717</td>\n",
       "    </tr>\n",
       "    <tr>\n",
       "      <th>70</th>\n",
       "      <td>96.888889</td>\n",
       "      <td>0.000546</td>\n",
       "    </tr>\n",
       "    <tr>\n",
       "      <th>71</th>\n",
       "      <td>98.444444</td>\n",
       "      <td>0.000417</td>\n",
       "    </tr>\n",
       "    <tr>\n",
       "      <th>72</th>\n",
       "      <td>100.000000</td>\n",
       "      <td>0.000320</td>\n",
       "    </tr>\n",
       "  </tbody>\n",
       "</table>\n",
       "<p>73 rows × 2 columns</p>\n",
       "</div>"
      ],
      "text/plain": [
       "             h            P\n",
       "0     0.000000  1013.250000\n",
       "1     1.222457   874.783079\n",
       "2     2.445385   752.053153\n",
       "3     3.668783   643.653845\n",
       "4     4.892652   548.268352\n",
       "..         ...          ...\n",
       "68   93.777778     0.000942\n",
       "69   95.333333     0.000717\n",
       "70   96.888889     0.000546\n",
       "71   98.444444     0.000417\n",
       "72  100.000000     0.000320\n",
       "\n",
       "[73 rows x 2 columns]"
      ]
     },
     "execution_count": 7,
     "metadata": {},
     "output_type": "execute_result"
    }
   ],
   "source": [
    "# Load file into a DataFrame\n",
    "df = pd.read_excel('../extra/mean_annual_global_reference_atmosphere.xlsx')\n",
    "df"
   ]
  },
  {
   "cell_type": "code",
   "execution_count": 8,
   "metadata": {},
   "outputs": [
    {
     "data": {
      "text/html": [
       "<div>\n",
       "<style scoped>\n",
       "    .dataframe tbody tr th:only-of-type {\n",
       "        vertical-align: middle;\n",
       "    }\n",
       "\n",
       "    .dataframe tbody tr th {\n",
       "        vertical-align: top;\n",
       "    }\n",
       "\n",
       "    .dataframe thead th {\n",
       "        text-align: right;\n",
       "    }\n",
       "</style>\n",
       "<table border=\"1\" class=\"dataframe\">\n",
       "  <thead>\n",
       "    <tr style=\"text-align: right;\">\n",
       "      <th></th>\n",
       "      <th>h</th>\n",
       "      <th>X_vert</th>\n",
       "      <th>rho</th>\n",
       "      <th>temp</th>\n",
       "      <th>P</th>\n",
       "      <th>P_w</th>\n",
       "      <th>E_th</th>\n",
       "      <th>r_M</th>\n",
       "    </tr>\n",
       "  </thead>\n",
       "  <tbody>\n",
       "    <tr>\n",
       "      <th>0</th>\n",
       "      <td>1.8982</td>\n",
       "      <td>820.546159</td>\n",
       "      <td>1.030118e-03</td>\n",
       "      <td>272.126993</td>\n",
       "      <td>804.680899</td>\n",
       "      <td>3.646172e+00</td>\n",
       "      <td>23.302332</td>\n",
       "      <td>0.093269</td>\n",
       "    </tr>\n",
       "    <tr>\n",
       "      <th>1</th>\n",
       "      <td>2.0946</td>\n",
       "      <td>800.865247</td>\n",
       "      <td>1.010146e-03</td>\n",
       "      <td>270.851299</td>\n",
       "      <td>785.380517</td>\n",
       "      <td>3.289643e+00</td>\n",
       "      <td>23.530875</td>\n",
       "      <td>0.095113</td>\n",
       "    </tr>\n",
       "    <tr>\n",
       "      <th>2</th>\n",
       "      <td>2.2910</td>\n",
       "      <td>781.656384</td>\n",
       "      <td>9.906527e-04</td>\n",
       "      <td>269.556601</td>\n",
       "      <td>766.543058</td>\n",
       "      <td>2.967701e+00</td>\n",
       "      <td>23.760615</td>\n",
       "      <td>0.096984</td>\n",
       "    </tr>\n",
       "    <tr>\n",
       "      <th>3</th>\n",
       "      <td>2.4874</td>\n",
       "      <td>762.792481</td>\n",
       "      <td>9.713875e-04</td>\n",
       "      <td>268.268329</td>\n",
       "      <td>748.043888</td>\n",
       "      <td>2.677268e+00</td>\n",
       "      <td>23.994489</td>\n",
       "      <td>0.098908</td>\n",
       "    </tr>\n",
       "    <tr>\n",
       "      <th>4</th>\n",
       "      <td>2.6838</td>\n",
       "      <td>743.968853</td>\n",
       "      <td>9.517228e-04</td>\n",
       "      <td>267.054428</td>\n",
       "      <td>729.584215</td>\n",
       "      <td>2.415875e+00</td>\n",
       "      <td>24.240586</td>\n",
       "      <td>0.100952</td>\n",
       "    </tr>\n",
       "    <tr>\n",
       "      <th>...</th>\n",
       "      <td>...</td>\n",
       "      <td>...</td>\n",
       "      <td>...</td>\n",
       "      <td>...</td>\n",
       "      <td>...</td>\n",
       "      <td>...</td>\n",
       "      <td>...</td>\n",
       "      <td>...</td>\n",
       "    </tr>\n",
       "    <tr>\n",
       "      <th>495</th>\n",
       "      <td>99.1162</td>\n",
       "      <td>0.000380</td>\n",
       "      <td>7.259051e-10</td>\n",
       "      <td>178.622937</td>\n",
       "      <td>0.000372</td>\n",
       "      <td>7.444101e-10</td>\n",
       "      <td>27756.259756</td>\n",
       "      <td>132355.944146</td>\n",
       "    </tr>\n",
       "    <tr>\n",
       "      <th>496</th>\n",
       "      <td>99.3126</td>\n",
       "      <td>0.000367</td>\n",
       "      <td>7.259051e-10</td>\n",
       "      <td>172.738752</td>\n",
       "      <td>0.000360</td>\n",
       "      <td>7.198878e-10</td>\n",
       "      <td>27756.259755</td>\n",
       "      <td>132355.944146</td>\n",
       "    </tr>\n",
       "    <tr>\n",
       "      <th>497</th>\n",
       "      <td>99.5090</td>\n",
       "      <td>0.000355</td>\n",
       "      <td>7.259051e-10</td>\n",
       "      <td>167.048403</td>\n",
       "      <td>0.000348</td>\n",
       "      <td>6.961733e-10</td>\n",
       "      <td>27756.259754</td>\n",
       "      <td>132355.944146</td>\n",
       "    </tr>\n",
       "    <tr>\n",
       "      <th>498</th>\n",
       "      <td>99.7054</td>\n",
       "      <td>0.000343</td>\n",
       "      <td>7.259051e-10</td>\n",
       "      <td>161.545506</td>\n",
       "      <td>0.000337</td>\n",
       "      <td>6.732400e-10</td>\n",
       "      <td>27756.259752</td>\n",
       "      <td>132355.944146</td>\n",
       "    </tr>\n",
       "    <tr>\n",
       "      <th>499</th>\n",
       "      <td>99.9018</td>\n",
       "      <td>0.000332</td>\n",
       "      <td>7.259051e-10</td>\n",
       "      <td>156.223885</td>\n",
       "      <td>0.000326</td>\n",
       "      <td>6.510622e-10</td>\n",
       "      <td>27756.259751</td>\n",
       "      <td>132355.944146</td>\n",
       "    </tr>\n",
       "  </tbody>\n",
       "</table>\n",
       "<p>500 rows × 8 columns</p>\n",
       "</div>"
      ],
      "text/plain": [
       "           h      X_vert           rho        temp           P           P_w  \\\n",
       "0     1.8982  820.546159  1.030118e-03  272.126993  804.680899  3.646172e+00   \n",
       "1     2.0946  800.865247  1.010146e-03  270.851299  785.380517  3.289643e+00   \n",
       "2     2.2910  781.656384  9.906527e-04  269.556601  766.543058  2.967701e+00   \n",
       "3     2.4874  762.792481  9.713875e-04  268.268329  748.043888  2.677268e+00   \n",
       "4     2.6838  743.968853  9.517228e-04  267.054428  729.584215  2.415875e+00   \n",
       "..       ...         ...           ...         ...         ...           ...   \n",
       "495  99.1162    0.000380  7.259051e-10  178.622937    0.000372  7.444101e-10   \n",
       "496  99.3126    0.000367  7.259051e-10  172.738752    0.000360  7.198878e-10   \n",
       "497  99.5090    0.000355  7.259051e-10  167.048403    0.000348  6.961733e-10   \n",
       "498  99.7054    0.000343  7.259051e-10  161.545506    0.000337  6.732400e-10   \n",
       "499  99.9018    0.000332  7.259051e-10  156.223885    0.000326  6.510622e-10   \n",
       "\n",
       "             E_th            r_M  \n",
       "0       23.302332       0.093269  \n",
       "1       23.530875       0.095113  \n",
       "2       23.760615       0.096984  \n",
       "3       23.994489       0.098908  \n",
       "4       24.240586       0.100952  \n",
       "..            ...            ...  \n",
       "495  27756.259756  132355.944146  \n",
       "496  27756.259755  132355.944146  \n",
       "497  27756.259754  132355.944146  \n",
       "498  27756.259752  132355.944146  \n",
       "499  27756.259751  132355.944146  \n",
       "\n",
       "[500 rows x 8 columns]"
      ]
     },
     "execution_count": 8,
     "metadata": {},
     "output_type": "execute_result"
    }
   ],
   "source": [
    "# Interpolate atmosphere from DataFrame\n",
    "atmosphere = sm.Atmosphere(atm_model=df, h0=1.8, N_steps=500)\n",
    "atmosphere"
   ]
  },
  {
   "cell_type": "markdown",
   "metadata": {},
   "source": [
    "You may also modify directly an existing `Atmosphere` object. However, this is not advisable because if you change some column of `Atmospheric` by hand, the other columns and attributes are not updated, which may cause inconsistencies. "
   ]
  },
  {
   "cell_type": "markdown",
   "metadata": {},
   "source": [
    "### Construction of shower profiles"
   ]
  },
  {
   "cell_type": "markdown",
   "metadata": {},
   "source": [
    "The `Profile` class generates the longitudinal profile of a shower. It includes:\n",
    "\n",
    "- `X` : Slant depth in g/cm$^2$.\n",
    "- `s` : Shower age.\n",
    "- `dX` : Discretization step along the shower track in g/cm$^2$.\n",
    "- `E_dep` : Energy deposit in MeV.\n",
    "- `N_ch` : Average number of charged particles with energy greater than 1 MeV.\n",
    "\n",
    "The default `Profile` object assumes a 10 TeV vertical electromagnetic shower with a longitudinal profile described by the Greisen function, where the depth of maximum is obtained from the Heitler model. But you can select the shower energy `E` (MeV), the direction `theta` / `az` (degrees), the depth of maximum `X_max` (g/cm$^2$), the height of the first interaction point `zi` (km above ground level) and the profile model `prf_model`, as illustrated in the examples below.\n",
    "\n",
    "In the same way as `Track`, the discretization of `Profile` is based on an `Atmosphere` object defined by the parameters `h0`, `h_top`, `N_steps` and `atm_model`. Alternatively, an existing `Atmosphere` object can be input via the parameter `atmosphere`. In either case, the `Atmosphere` object is stored as an attribute of `Profile`."
   ]
  },
  {
   "cell_type": "code",
   "execution_count": 9,
   "metadata": {
    "scrolled": true
   },
   "outputs": [
    {
     "data": {
      "text/html": [
       "<div>\n",
       "<style scoped>\n",
       "    .dataframe tbody tr th:only-of-type {\n",
       "        vertical-align: middle;\n",
       "    }\n",
       "\n",
       "    .dataframe tbody tr th {\n",
       "        vertical-align: top;\n",
       "    }\n",
       "\n",
       "    .dataframe thead th {\n",
       "        text-align: right;\n",
       "    }\n",
       "</style>\n",
       "<table border=\"1\" class=\"dataframe\">\n",
       "  <thead>\n",
       "    <tr style=\"text-align: right;\">\n",
       "      <th></th>\n",
       "      <th>X</th>\n",
       "      <th>s</th>\n",
       "      <th>dX</th>\n",
       "      <th>E_dep</th>\n",
       "      <th>N_ch</th>\n",
       "    </tr>\n",
       "  </thead>\n",
       "  <tbody>\n",
       "    <tr>\n",
       "      <th>0</th>\n",
       "      <td>850.192923</td>\n",
       "      <td>1.758786e+00</td>\n",
       "      <td>23.451852</td>\n",
       "      <td>724.610198</td>\n",
       "      <td>11.663520</td>\n",
       "    </tr>\n",
       "    <tr>\n",
       "      <th>1</th>\n",
       "      <td>827.011351</td>\n",
       "      <td>1.738623e+00</td>\n",
       "      <td>22.913376</td>\n",
       "      <td>948.112596</td>\n",
       "      <td>15.635342</td>\n",
       "    </tr>\n",
       "    <tr>\n",
       "      <th>2</th>\n",
       "      <td>804.362049</td>\n",
       "      <td>1.718279e+00</td>\n",
       "      <td>22.387265</td>\n",
       "      <td>1226.646837</td>\n",
       "      <td>20.724948</td>\n",
       "    </tr>\n",
       "    <tr>\n",
       "      <th>3</th>\n",
       "      <td>782.232794</td>\n",
       "      <td>1.697759e+00</td>\n",
       "      <td>21.873234</td>\n",
       "      <td>1569.528937</td>\n",
       "      <td>27.169008</td>\n",
       "    </tr>\n",
       "    <tr>\n",
       "      <th>4</th>\n",
       "      <td>760.611647</td>\n",
       "      <td>1.677066e+00</td>\n",
       "      <td>21.371005</td>\n",
       "      <td>1986.521000</td>\n",
       "      <td>35.231586</td>\n",
       "    </tr>\n",
       "    <tr>\n",
       "      <th>...</th>\n",
       "      <td>...</td>\n",
       "      <td>...</td>\n",
       "      <td>...</td>\n",
       "      <td>...</td>\n",
       "      <td>...</td>\n",
       "    </tr>\n",
       "    <tr>\n",
       "      <th>401</th>\n",
       "      <td>0.000389</td>\n",
       "      <td>1.945883e-06</td>\n",
       "      <td>0.000092</td>\n",
       "      <td>0.000147</td>\n",
       "      <td>0.336483</td>\n",
       "    </tr>\n",
       "    <tr>\n",
       "      <th>402</th>\n",
       "      <td>0.000299</td>\n",
       "      <td>1.493277e-06</td>\n",
       "      <td>0.000089</td>\n",
       "      <td>0.000143</td>\n",
       "      <td>0.336467</td>\n",
       "    </tr>\n",
       "    <tr>\n",
       "      <th>403</th>\n",
       "      <td>0.000211</td>\n",
       "      <td>1.054070e-06</td>\n",
       "      <td>0.000087</td>\n",
       "      <td>0.000139</td>\n",
       "      <td>0.336451</td>\n",
       "    </tr>\n",
       "    <tr>\n",
       "      <th>404</th>\n",
       "      <td>0.000126</td>\n",
       "      <td>6.278677e-07</td>\n",
       "      <td>0.000084</td>\n",
       "      <td>0.000134</td>\n",
       "      <td>0.336435</td>\n",
       "    </tr>\n",
       "    <tr>\n",
       "      <th>405</th>\n",
       "      <td>0.000043</td>\n",
       "      <td>2.142836e-07</td>\n",
       "      <td>0.000081</td>\n",
       "      <td>0.000130</td>\n",
       "      <td>0.336418</td>\n",
       "    </tr>\n",
       "  </tbody>\n",
       "</table>\n",
       "<p>406 rows × 5 columns</p>\n",
       "</div>"
      ],
      "text/plain": [
       "              X             s         dX        E_dep       N_ch\n",
       "0    850.192923  1.758786e+00  23.451852   724.610198  11.663520\n",
       "1    827.011351  1.738623e+00  22.913376   948.112596  15.635342\n",
       "2    804.362049  1.718279e+00  22.387265  1226.646837  20.724948\n",
       "3    782.232794  1.697759e+00  21.873234  1569.528937  27.169008\n",
       "4    760.611647  1.677066e+00  21.371005  1986.521000  35.231586\n",
       "..          ...           ...        ...          ...        ...\n",
       "401    0.000389  1.945883e-06   0.000092     0.000147   0.336483\n",
       "402    0.000299  1.493277e-06   0.000089     0.000143   0.336467\n",
       "403    0.000211  1.054070e-06   0.000087     0.000139   0.336451\n",
       "404    0.000126  6.278677e-07   0.000084     0.000134   0.336435\n",
       "405    0.000043  2.142836e-07   0.000081     0.000130   0.336418\n",
       "\n",
       "[406 rows x 5 columns]"
      ]
     },
     "execution_count": 9,
     "metadata": {},
     "output_type": "execute_result"
    }
   ],
   "source": [
    "# Default Profile object\n",
    "# profile = sm.Profile()\n",
    "\n",
    "# Greisen profile for a 1000 GeV shower starting at 90 km above ground level with zenith angle of 20 degrees.\n",
    "# The depth of maximum is set to 300 g/cm2\n",
    "atmosphere = sm.Atmosphere(h0=2.0, atm_model=17, N_steps=500)\n",
    "profile = sm.Profile(E=1000000., theta=20., X_max=300., zi=90., atmosphere=atmosphere)\n",
    "\n",
    "# Equivalent one-step procedure\n",
    "# profile = sm.Profile(E=1000000, theta=20., X_max=300., h0=2.0, atm_model=17, N_steps=500)\n",
    "\n",
    "# The atmosphere is stored as an attribute of profile\n",
    "# profile.atmosphere\n",
    "\n",
    "profile"
   ]
  },
  {
   "cell_type": "markdown",
   "metadata": {},
   "source": [
    "Note: The above `Profile` object has 406 steps, despite of `N_steps=500`, because the shower does not start at the top of the atmosphere, but at 90 km above ground."
   ]
  },
  {
   "cell_type": "markdown",
   "metadata": {},
   "source": [
    "Apart from the Greisen model of the longitudinal profile, the Gaisser-Hillas profile is also available for hadronic showers. It can be selected setting `prf_model = 'Gaisser-Hillas'` and the optional parameters `X_max`, `X0_GH` and `lambda_GH`. If these parameters are not given, they are interpolated from data obtained by the Pierre Auger Observatory at the input shower energy `E`."
   ]
  },
  {
   "cell_type": "code",
   "execution_count": 10,
   "metadata": {},
   "outputs": [],
   "source": [
    "# Gaisser-Hillas profile for a 1 EeV proton shower. A default value for lambda is used\n",
    "profile2 = sm.Profile(E=1.e12, theta=20., prf_model='Gaisser-Hillas', X_max=500., X0_GH=-10.)"
   ]
  },
  {
   "cell_type": "markdown",
   "metadata": {},
   "source": [
    "`Profile` objects can also be constructed from a numerical energy deposit profile (e.g., obtained by CORSIKA). To do that, a `DataFrame` object has to be generated with two columns: slant depth in g/cm$^2$ and dE/dX in MeV.cm$^2$/g. The example below uses an energy deposit profile that is stored in a file."
   ]
  },
  {
   "cell_type": "code",
   "execution_count": 11,
   "metadata": {},
   "outputs": [],
   "source": [
    "# Numerical energy deposit profile generated by CORSIKA: average of 1000 vertical showers induced by 1000 GeV gamma rays\n",
    "# In that simulation, the total atmospheric depth was 800 g/cm2\n",
    "prf_model = pd.read_fwf('../extra/Edep_profile_1000GeV_1000sh_0deg.dat', skiprows = 12, names=['X', 'dE_dX'])\n",
    "prf_model.dE_dX *= 1000./10.  # Original data is given in GeV in steps of 10 g/cm2\n",
    "\n",
    "atmosphere = sm.Atmosphere()\n",
    "h0 = atmosphere.Xv_to_h(800.)  # Ground level consistent with simulation\n",
    "profile3 = sm.Profile(E=1000000., theta=0., prf_model=prf_model, h0=h0)"
   ]
  },
  {
   "cell_type": "markdown",
   "metadata": {},
   "source": [
    "`Profile` objects have a method to plot both the number of charged particles `N_ch` (with energy above 1 MeV) and the energy deposit profile `E_dep / dX` in MeV.cm$^2$/g as a function of slant depth `X` in g/cm$^2$"
   ]
  },
  {
   "cell_type": "code",
   "execution_count": 12,
   "metadata": {},
   "outputs": [
    {
     "data": {
      "image/png": "[encoded data removed]",
      "text/plain": [
       "<Figure size 720x360 with 2 Axes>"
      ]
     },
     "metadata": {
      "needs_background": "light"
     },
     "output_type": "display_data"
    }
   ],
   "source": [
    "profile.show();"
   ]
  },
  {
   "cell_type": "markdown",
   "metadata": {},
   "source": [
    "The generated plots can be stored in `AxesSubplot` objects for later modification."
   ]
  },
  {
   "cell_type": "code",
   "execution_count": 13,
   "metadata": {},
   "outputs": [
    {
     "data": {
      "image/png": "[encoded data removed]",
      "text/plain": [
       "<Figure size 720x360 with 2 Axes>"
      ]
     },
     "metadata": {
      "needs_background": "light"
     },
     "output_type": "display_data"
    }
   ],
   "source": [
    "# Example of comparison of two profiles in the same plot\n",
    "ax1, ax2 = profile.show();\n",
    "ax1.plot(profile3.X, profile3.N_ch, 'r--');\n",
    "ax2.plot(profile3.X, profile3.E_dep/profile3.dX, 'b--');"
   ]
  },
  {
   "cell_type": "markdown",
   "metadata": {},
   "source": [
    "Help on `Profile`, including the full list of input parameters, attributes and methods."
   ]
  },
  {
   "cell_type": "code",
   "execution_count": 14,
   "metadata": {},
   "outputs": [],
   "source": [
    "# sm.Profile?"
   ]
  },
  {
   "cell_type": "markdown",
   "metadata": {},
   "source": [
    "### Fluorescence and Cherenkov light production"
   ]
  },
  {
   "cell_type": "markdown",
   "metadata": {},
   "source": [
    "The `Cherenkov` and `Fluorescence` classes calculate the production of the respective light components based on available models for a 1D shower profile.  \n",
    "\n",
    "- `Cherenkov` : F. Nerling et al., Astropart. Phys. 24(2006)241.  \n",
    "- `Fluorescence` : D. Morcuende et al., Astropart. Phys. 107(2019)26 and references therein.\n",
    "\n",
    "They only need a `Profile` object."
   ]
  },
  {
   "cell_type": "code",
   "execution_count": 15,
   "metadata": {},
   "outputs": [],
   "source": [
    "cherenkov = sm.Cherenkov(profile)\n",
    "fluorescence = sm.Fluorescence(profile)\n",
    "\n",
    "# Equivalent methods of Profile\n",
    "# cherenkov = profile.Cherenkov()\n",
    "# fluorescence = profile.Fluorescence()"
   ]
  },
  {
   "cell_type": "markdown",
   "metadata": {},
   "source": [
    "Both classes are subclasses of `DataFrame`. `Cherenkov` contains the number of Cherenkov photons `N_ph` emitted by each shower point in the reference 290 - 430 nm wavelength interval, where the wavelength spectrum is assumed to follow a $1/\\lambda^2$ distribution. `Cherenkov` also contains other parameters that determine the angular disctribution of Cherenkov emission according to the model from F. Nerling et al."
   ]
  },
  {
   "cell_type": "code",
   "execution_count": 16,
   "metadata": {},
   "outputs": [
    {
     "data": {
      "text/html": [
       "<div>\n",
       "<style scoped>\n",
       "    .dataframe tbody tr th:only-of-type {\n",
       "        vertical-align: middle;\n",
       "    }\n",
       "\n",
       "    .dataframe tbody tr th {\n",
       "        vertical-align: top;\n",
       "    }\n",
       "\n",
       "    .dataframe thead th {\n",
       "        text-align: right;\n",
       "    }\n",
       "</style>\n",
       "<table border=\"1\" class=\"dataframe\">\n",
       "  <thead>\n",
       "    <tr style=\"text-align: right;\">\n",
       "      <th></th>\n",
       "      <th>N_ph</th>\n",
       "      <th>a</th>\n",
       "      <th>theta_c</th>\n",
       "      <th>b</th>\n",
       "      <th>theta_cc</th>\n",
       "    </tr>\n",
       "  </thead>\n",
       "  <tbody>\n",
       "    <tr>\n",
       "      <th>0</th>\n",
       "      <td>17236.255267</td>\n",
       "      <td>1.196704</td>\n",
       "      <td>5.274431</td>\n",
       "      <td>0.063162</td>\n",
       "      <td>9.561802</td>\n",
       "    </tr>\n",
       "    <tr>\n",
       "      <th>1</th>\n",
       "      <td>22713.065357</td>\n",
       "      <td>1.190744</td>\n",
       "      <td>5.237536</td>\n",
       "      <td>0.061073</td>\n",
       "      <td>10.017076</td>\n",
       "    </tr>\n",
       "    <tr>\n",
       "      <th>2</th>\n",
       "      <td>29601.386194</td>\n",
       "      <td>1.184662</td>\n",
       "      <td>5.200891</td>\n",
       "      <td>0.059013</td>\n",
       "      <td>10.470122</td>\n",
       "    </tr>\n",
       "    <tr>\n",
       "      <th>3</th>\n",
       "      <td>38147.264856</td>\n",
       "      <td>1.178458</td>\n",
       "      <td>5.164494</td>\n",
       "      <td>0.056982</td>\n",
       "      <td>10.920837</td>\n",
       "    </tr>\n",
       "    <tr>\n",
       "      <th>4</th>\n",
       "      <td>48657.442586</td>\n",
       "      <td>1.172132</td>\n",
       "      <td>5.128345</td>\n",
       "      <td>0.054983</td>\n",
       "      <td>11.369115</td>\n",
       "    </tr>\n",
       "    <tr>\n",
       "      <th>...</th>\n",
       "      <td>...</td>\n",
       "      <td>...</td>\n",
       "      <td>...</td>\n",
       "      <td>...</td>\n",
       "      <td>...</td>\n",
       "    </tr>\n",
       "    <tr>\n",
       "      <th>401</th>\n",
       "      <td>0.003484</td>\n",
       "      <td>0.424891</td>\n",
       "      <td>0.121387</td>\n",
       "      <td>0.055108</td>\n",
       "      <td>1.275659</td>\n",
       "    </tr>\n",
       "    <tr>\n",
       "      <th>402</th>\n",
       "      <td>0.003365</td>\n",
       "      <td>0.424891</td>\n",
       "      <td>0.120287</td>\n",
       "      <td>0.055108</td>\n",
       "      <td>1.264097</td>\n",
       "    </tr>\n",
       "    <tr>\n",
       "      <th>403</th>\n",
       "      <td>0.003250</td>\n",
       "      <td>0.424891</td>\n",
       "      <td>0.119197</td>\n",
       "      <td>0.055108</td>\n",
       "      <td>1.252640</td>\n",
       "    </tr>\n",
       "    <tr>\n",
       "      <th>404</th>\n",
       "      <td>0.003139</td>\n",
       "      <td>0.424890</td>\n",
       "      <td>0.118117</td>\n",
       "      <td>0.055108</td>\n",
       "      <td>1.241287</td>\n",
       "    </tr>\n",
       "    <tr>\n",
       "      <th>405</th>\n",
       "      <td>0.003032</td>\n",
       "      <td>0.424890</td>\n",
       "      <td>0.117046</td>\n",
       "      <td>0.055108</td>\n",
       "      <td>1.230037</td>\n",
       "    </tr>\n",
       "  </tbody>\n",
       "</table>\n",
       "<p>406 rows × 5 columns</p>\n",
       "</div>"
      ],
      "text/plain": [
       "             N_ph         a   theta_c         b   theta_cc\n",
       "0    17236.255267  1.196704  5.274431  0.063162   9.561802\n",
       "1    22713.065357  1.190744  5.237536  0.061073  10.017076\n",
       "2    29601.386194  1.184662  5.200891  0.059013  10.470122\n",
       "3    38147.264856  1.178458  5.164494  0.056982  10.920837\n",
       "4    48657.442586  1.172132  5.128345  0.054983  11.369115\n",
       "..            ...       ...       ...       ...        ...\n",
       "401      0.003484  0.424891  0.121387  0.055108   1.275659\n",
       "402      0.003365  0.424891  0.120287  0.055108   1.264097\n",
       "403      0.003250  0.424891  0.119197  0.055108   1.252640\n",
       "404      0.003139  0.424890  0.118117  0.055108   1.241287\n",
       "405      0.003032  0.424890  0.117046  0.055108   1.230037\n",
       "\n",
       "[406 rows x 5 columns]"
      ]
     },
     "execution_count": 16,
     "metadata": {},
     "output_type": "execute_result"
    }
   ],
   "source": [
    "cherenkov"
   ]
  },
  {
   "cell_type": "markdown",
   "metadata": {},
   "source": [
    "`Fluorescence` contains the number of fluorescence photons at each of the 57 fluorescence bands in the 280 - 670 nm interval."
   ]
  },
  {
   "cell_type": "code",
   "execution_count": 17,
   "metadata": {
    "scrolled": true
   },
   "outputs": [
    {
     "data": {
      "image/png": "[encoded data removed]",
      "text/plain": [
       "<Figure size 864x288 with 1 Axes>"
      ]
     },
     "metadata": {
      "needs_background": "light"
     },
     "output_type": "display_data"
    }
   ],
   "source": [
    "fluorescence.sum().plot(kind='bar', figsize=(12,4));"
   ]
  },
  {
   "cell_type": "markdown",
   "metadata": {},
   "source": [
    "Note: wavelength is not to scale."
   ]
  },
  {
   "cell_type": "markdown",
   "metadata": {},
   "source": [
    "Both classes include a method to plot the light production as a function of slant depth for the reference 290 - 430 nm interval of interest to astroparticle experiments."
   ]
  },
  {
   "cell_type": "code",
   "execution_count": 18,
   "metadata": {},
   "outputs": [
    {
     "data": {
      "image/png": "[encoded data removed]",
      "text/plain": [
       "<Figure size 360x360 with 1 Axes>"
      ]
     },
     "metadata": {
      "needs_background": "light"
     },
     "output_type": "display_data"
    },
    {
     "data": {
      "image/png": "[encoded data removed]",
      "text/plain": [
       "<Figure size 360x360 with 1 Axes>"
      ]
     },
     "metadata": {
      "needs_background": "light"
     },
     "output_type": "display_data"
    }
   ],
   "source": [
    "cherenkov.show();\n",
    "fluorescence.show();"
   ]
  },
  {
   "cell_type": "markdown",
   "metadata": {},
   "source": [
    "Help on `Fluorescence` and `Cherenkov`."
   ]
  },
  {
   "cell_type": "code",
   "execution_count": 19,
   "metadata": {},
   "outputs": [],
   "source": [
    "# fluorescence?\n",
    "# cherenkov?"
   ]
  },
  {
   "cell_type": "markdown",
   "metadata": {},
   "source": [
    "### `Shower` class"
   ]
  },
  {
   "cell_type": "markdown",
   "metadata": {},
   "source": [
    "`Shower` contains all the information of a shower including its track, its longitudinal profile and its light production. Therefore, a `Shower` object wraps objects of the classes: `Atmosphere`, `Track`, `Profile`, `Cherenkov` and `Fluorescence`. This object can be generated in one step introducing all the input parameters (or keeping the default ones) of the constituent objects."
   ]
  },
  {
   "cell_type": "code",
   "execution_count": 20,
   "metadata": {},
   "outputs": [],
   "source": [
    "# Default Shower object\n",
    "# shower = sm.Shower()\n",
    "\n",
    "# Setting the impact point, energy, zenith and azimuth angles, X_max and atmospheric profile\n",
    "shower = sm.Shower(x0=0.5, y0=0.1, E=1000000, theta=20., az= 30., X_max=300., h0=1.8, h_top=100., atm_model=17, N_steps=600)"
   ]
  },
  {
   "cell_type": "markdown",
   "metadata": {},
   "source": [
    "The constituent objects are stored as attributes of `Shower`."
   ]
  },
  {
   "cell_type": "code",
   "execution_count": 21,
   "metadata": {},
   "outputs": [
    {
     "data": {
      "text/html": [
       "<div>\n",
       "<style scoped>\n",
       "    .dataframe tbody tr th:only-of-type {\n",
       "        vertical-align: middle;\n",
       "    }\n",
       "\n",
       "    .dataframe tbody tr th {\n",
       "        vertical-align: top;\n",
       "    }\n",
       "\n",
       "    .dataframe thead th {\n",
       "        text-align: right;\n",
       "    }\n",
       "</style>\n",
       "<table border=\"1\" class=\"dataframe\">\n",
       "  <thead>\n",
       "    <tr style=\"text-align: right;\">\n",
       "      <th></th>\n",
       "      <th>h</th>\n",
       "      <th>X_vert</th>\n",
       "      <th>rho</th>\n",
       "      <th>temp</th>\n",
       "      <th>P</th>\n",
       "      <th>P_w</th>\n",
       "      <th>E_th</th>\n",
       "      <th>r_M</th>\n",
       "    </tr>\n",
       "  </thead>\n",
       "  <tbody>\n",
       "    <tr>\n",
       "      <th>0</th>\n",
       "      <td>1.881833</td>\n",
       "      <td>821.965364</td>\n",
       "      <td>1.018359e-03</td>\n",
       "      <td>275.745413</td>\n",
       "      <td>806.072664</td>\n",
       "      <td>3.725013e+00</td>\n",
       "      <td>23.437060</td>\n",
       "      <td>0.094346</td>\n",
       "    </tr>\n",
       "    <tr>\n",
       "      <th>1</th>\n",
       "      <td>2.045500</td>\n",
       "      <td>805.440347</td>\n",
       "      <td>1.001041e-03</td>\n",
       "      <td>274.876053</td>\n",
       "      <td>789.867157</td>\n",
       "      <td>3.421501e+00</td>\n",
       "      <td>23.638347</td>\n",
       "      <td>0.095978</td>\n",
       "    </tr>\n",
       "    <tr>\n",
       "      <th>2</th>\n",
       "      <td>2.209167</td>\n",
       "      <td>789.196339</td>\n",
       "      <td>9.840185e-04</td>\n",
       "      <td>273.991653</td>\n",
       "      <td>773.937228</td>\n",
       "      <td>3.142515e+00</td>\n",
       "      <td>23.841405</td>\n",
       "      <td>0.097638</td>\n",
       "    </tr>\n",
       "    <tr>\n",
       "      <th>3</th>\n",
       "      <td>2.372833</td>\n",
       "      <td>773.228562</td>\n",
       "      <td>9.672851e-04</td>\n",
       "      <td>273.091953</td>\n",
       "      <td>758.278188</td>\n",
       "      <td>2.886085e+00</td>\n",
       "      <td>24.046245</td>\n",
       "      <td>0.099327</td>\n",
       "    </tr>\n",
       "    <tr>\n",
       "      <th>4</th>\n",
       "      <td>2.536500</td>\n",
       "      <td>757.532320</td>\n",
       "      <td>9.508363e-04</td>\n",
       "      <td>272.176690</td>\n",
       "      <td>742.885433</td>\n",
       "      <td>2.650400e+00</td>\n",
       "      <td>24.252881</td>\n",
       "      <td>0.101046</td>\n",
       "    </tr>\n",
       "    <tr>\n",
       "      <th>...</th>\n",
       "      <td>...</td>\n",
       "      <td>...</td>\n",
       "      <td>...</td>\n",
       "      <td>...</td>\n",
       "      <td>...</td>\n",
       "      <td>...</td>\n",
       "      <td>...</td>\n",
       "      <td>...</td>\n",
       "    </tr>\n",
       "    <tr>\n",
       "      <th>595</th>\n",
       "      <td>99.263500</td>\n",
       "      <td>0.001372</td>\n",
       "      <td>1.269746e-09</td>\n",
       "      <td>369.119629</td>\n",
       "      <td>0.001345</td>\n",
       "      <td>2.690786e-09</td>\n",
       "      <td>20986.617375</td>\n",
       "      <td>75666.989023</td>\n",
       "    </tr>\n",
       "    <tr>\n",
       "      <th>596</th>\n",
       "      <td>99.427167</td>\n",
       "      <td>0.001351</td>\n",
       "      <td>1.241879e-09</td>\n",
       "      <td>371.748648</td>\n",
       "      <td>0.001325</td>\n",
       "      <td>2.650475e-09</td>\n",
       "      <td>21220.775631</td>\n",
       "      <td>77364.918179</td>\n",
       "    </tr>\n",
       "    <tr>\n",
       "      <th>597</th>\n",
       "      <td>99.590833</td>\n",
       "      <td>0.001331</td>\n",
       "      <td>1.214623e-09</td>\n",
       "      <td>374.436661</td>\n",
       "      <td>0.001306</td>\n",
       "      <td>2.611050e-09</td>\n",
       "      <td>21457.546509</td>\n",
       "      <td>79100.948012</td>\n",
       "    </tr>\n",
       "    <tr>\n",
       "      <th>598</th>\n",
       "      <td>99.754500</td>\n",
       "      <td>0.001312</td>\n",
       "      <td>1.187966e-09</td>\n",
       "      <td>377.184992</td>\n",
       "      <td>0.001286</td>\n",
       "      <td>2.572489e-09</td>\n",
       "      <td>21696.959158</td>\n",
       "      <td>80875.933481</td>\n",
       "    </tr>\n",
       "    <tr>\n",
       "      <th>599</th>\n",
       "      <td>99.918167</td>\n",
       "      <td>0.001292</td>\n",
       "      <td>1.161894e-09</td>\n",
       "      <td>379.994993</td>\n",
       "      <td>0.001267</td>\n",
       "      <td>2.534775e-09</td>\n",
       "      <td>21939.043055</td>\n",
       "      <td>82690.748730</td>\n",
       "    </tr>\n",
       "  </tbody>\n",
       "</table>\n",
       "<p>600 rows × 8 columns</p>\n",
       "</div>"
      ],
      "text/plain": [
       "             h      X_vert           rho        temp           P  \\\n",
       "0     1.881833  821.965364  1.018359e-03  275.745413  806.072664   \n",
       "1     2.045500  805.440347  1.001041e-03  274.876053  789.867157   \n",
       "2     2.209167  789.196339  9.840185e-04  273.991653  773.937228   \n",
       "3     2.372833  773.228562  9.672851e-04  273.091953  758.278188   \n",
       "4     2.536500  757.532320  9.508363e-04  272.176690  742.885433   \n",
       "..         ...         ...           ...         ...         ...   \n",
       "595  99.263500    0.001372  1.269746e-09  369.119629    0.001345   \n",
       "596  99.427167    0.001351  1.241879e-09  371.748648    0.001325   \n",
       "597  99.590833    0.001331  1.214623e-09  374.436661    0.001306   \n",
       "598  99.754500    0.001312  1.187966e-09  377.184992    0.001286   \n",
       "599  99.918167    0.001292  1.161894e-09  379.994993    0.001267   \n",
       "\n",
       "              P_w          E_th           r_M  \n",
       "0    3.725013e+00     23.437060      0.094346  \n",
       "1    3.421501e+00     23.638347      0.095978  \n",
       "2    3.142515e+00     23.841405      0.097638  \n",
       "3    2.886085e+00     24.046245      0.099327  \n",
       "4    2.650400e+00     24.252881      0.101046  \n",
       "..            ...           ...           ...  \n",
       "595  2.690786e-09  20986.617375  75666.989023  \n",
       "596  2.650475e-09  21220.775631  77364.918179  \n",
       "597  2.611050e-09  21457.546509  79100.948012  \n",
       "598  2.572489e-09  21696.959158  80875.933481  \n",
       "599  2.534775e-09  21939.043055  82690.748730  \n",
       "\n",
       "[600 rows x 8 columns]"
      ]
     },
     "execution_count": 21,
     "metadata": {},
     "output_type": "execute_result"
    }
   ],
   "source": [
    "shower.atmosphere  # Equivalent to shower.profile.atmosphere\n",
    "# shower.track\n",
    "# shower.profile\n",
    "# shower.fluorescence\n",
    "# shower.cherenkov"
   ]
  },
  {
   "cell_type": "markdown",
   "metadata": {},
   "source": [
    "Some attributes of `Track`, `Profile` and `Atmosphere` can also be accessed directly via attributes of `Shower`."
   ]
  },
  {
   "cell_type": "code",
   "execution_count": 22,
   "metadata": {},
   "outputs": [
    {
     "name": "stdout",
     "output_type": "stream",
     "text": [
      "Depth of maximum: 300.0\n",
      "Coordinates of ground interaction point: [0.5 0.1]\n"
     ]
    }
   ],
   "source": [
    "print(\"Depth of maximum:\", shower.X_max)  # Equivalent to shower.profile.X_max\n",
    "print(\"Coordinates of ground interaction point:\",\n",
    "      np.around([shower.x0, shower.y0], 3))  # Equivalent to (shower.track.x0, shower.track.y0)"
   ]
  },
  {
   "cell_type": "markdown",
   "metadata": {},
   "source": [
    "There are some inherited methods as well."
   ]
  },
  {
   "cell_type": "code",
   "execution_count": 23,
   "metadata": {},
   "outputs": [
    {
     "data": {
      "image/png": "[encoded data removed]",
      "text/plain": [
       "<Figure size 720x360 with 2 Axes>"
      ]
     },
     "metadata": {
      "needs_background": "light"
     },
     "output_type": "display_data"
    },
    {
     "data": {
      "image/png": "[encoded data removed]",
      "text/plain": [
       "<Figure size 720x360 with 2 Axes>"
      ]
     },
     "metadata": {
      "needs_background": "light"
     },
     "output_type": "display_data"
    }
   ],
   "source": [
    "shower.show_profile();\n",
    "shower.show_light_production();"
   ]
  },
  {
   "cell_type": "markdown",
   "metadata": {},
   "source": [
    "Remarkably, there is a method of `Shower` to visualize the shower track projection with additional options with respect to the equivalent method of `Projection`."
   ]
  },
  {
   "cell_type": "code",
   "execution_count": 24,
   "metadata": {},
   "outputs": [
    {
     "data": {
      "image/png": "[encoded data removed]",
      "text/plain": [
       "<Figure size 432x288 with 2 Axes>"
      ]
     },
     "metadata": {
      "needs_background": "light"
     },
     "output_type": "display_data"
    }
   ],
   "source": [
    "shower.show_projection(sm.Telescope(x=0.1, y=-0.2, z=0.1, alt=70., az=40.), max_theta=6.);\n",
    "\n",
    "# Equivalent procedure\n",
    "# telescope = sm.Telescope(x=0.1, y=-0.2, z=0.1, alt=70., az=40.)\n",
    "# projection = shower.Projection(telescope)\n",
    "# projection.show(max_theta=6., X_mark=shower.X_max);"
   ]
  },
  {
   "cell_type": "markdown",
   "metadata": {},
   "source": [
    "Note 1: `X_mark` is set to `X_max` by default.  \n",
    "Note 2: Size of track points are proportional to the energy deposited in each step length, which is approximately proportional to the light emission. This option can deactivated setting `shower_Edep=False`."
   ]
  },
  {
   "cell_type": "markdown",
   "metadata": {},
   "source": [
    "There is also a method to make copies of a `Shower` object with optional changes. This eases the iterative generation of showers as a function of a changing parameter. As already pointed out for `Atmosphere`, it is not advisalbe to modify directly a `Shower` object, since this would probably cause inconsistencies between its properties."
   ]
  },
  {
   "cell_type": "code",
   "execution_count": 25,
   "metadata": {},
   "outputs": [
    {
     "data": {
      "image/png": "[encoded data removed]",
      "text/plain": [
       "<Figure size 720x360 with 2 Axes>"
      ]
     },
     "metadata": {
      "needs_background": "light"
     },
     "output_type": "display_data"
    }
   ],
   "source": [
    "# Identical copy\n",
    "# shower2 = shower.copy()\n",
    "\n",
    "# Same atmosphere and track, but different profile, i.e., 10 TeV hadronic shower with depth of maximum at 400 g/cm2\n",
    "shower2 = shower.copy(E=10.e6, X_max=400., prf_model='Gaisser-Hillas')\n",
    "shower2.show_profile();"
   ]
  },
  {
   "cell_type": "markdown",
   "metadata": {},
   "source": [
    "Help on `Shower`."
   ]
  },
  {
   "cell_type": "code",
   "execution_count": 26,
   "metadata": {},
   "outputs": [],
   "source": [
    "# sm.Shower?"
   ]
  },
  {
   "cell_type": "code",
   "execution_count": null,
   "metadata": {},
   "outputs": [],
   "source": []
  }
 ],
 "metadata": {
  "kernelspec": {
   "display_name": "Python 3",
   "language": "python",
   "name": "python3"
  },
  "language_info": {
   "codemirror_mode": {
    "name": "ipython",
    "version": 3
   },
   "file_extension": ".py",
   "mimetype": "text/x-python",
   "name": "python",
   "nbconvert_exporter": "python",
   "pygments_lexer": "ipython3",
   "version": "3.8.5"
  }
 },
 "nbformat": 4,
 "nbformat_minor": 4
}
